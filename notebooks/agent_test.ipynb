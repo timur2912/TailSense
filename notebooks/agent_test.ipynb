{
 "cells": [
  {
   "cell_type": "code",
   "execution_count": 3,
   "id": "9f205d40",
   "metadata": {},
   "outputs": [
    {
     "name": "stdout",
     "output_type": "stream",
     "text": [
      "Краткий вывод: У коровы может быть головная боль, вызванная различными заболеваниями, такими как кетоз, остеодистрофия или инфекционные болезни. Эти состояния могут проявляться угнетением, снижением аппетита и другими симптомами.\n",
      "\n",
      "Возможные причины:\n",
      "- Кетоз (накопление кетоновых веществ в организме)\n",
      "- Остеодистрофия (недостаток минералов и витаминов)\n",
      "- Инфекционные болезни (например, актиномикоз)\n",
      "- Травмы головы или шеи\n",
      "- Патологии вымени (мастит)\n",
      "\n",
      "Что проверить:\n",
      "- Общее состояние коровы (угнетение, аппетит)\n",
      "- Температура тела\n",
      "- Визуальные признаки (отечность, раны)\n",
      "- Анализы на наличие инфекций или нарушений обмена веществ\n",
      "\n",
      "Когда срочно обратиться к ветеринару:\n",
      "- Если корова проявляет сильное угнетение или вялость\n",
      "- При наличии температуры выше нормы\n",
      "- Если наблюдаются признаки травмы головы или шеи\n",
      "\n",
      "Источники:\n",
      "1. <Кетоз молочных коров> — <https://example.com/ketoz>\n",
      "2. <Остеодистрофия у коров> — <https://example.com/osteodistrofiya>\n",
      "3. <Актиномикоз у коров> — <https://example.com/aktinomikoz>\n"
     ]
    }
   ],
   "source": [
    "import requests\n",
    "import os\n",
    "import uuid\n",
    "\n",
    "api_key ='sk-WFRz8a28DHL31Sr-qN0K8WFFnzKeeVaJJLq5RYAF7dg'\n",
    "url = \"http://localhost:7860/api/v1/run/e68ff0eb-0690-43b7-acb6-c3e8ea8ecea1\"\n",
    "  \n",
    "# The complete API endpoint URL for this flo # The complete API endpoint URL for this flow\n",
    "\n",
    "headers = {\n",
    "    \"Content-Type\": \"application/json\",\n",
    "    \"x-api-key\": api_key\n",
    "}\n",
    "\n",
    "# Request payload configuration\n",
    "payload = {\n",
    "    \"output_type\": \"chat\",\n",
    "    \"input_type\": \"chat\",\n",
    "    \"input_value\": \"У моей коровы болит голова\"\n",
    "}\n",
    "payload[\"session_id\"] = str(uuid.uuid4())\n",
    "\n",
    "\n",
    "try:\n",
    "    # Send API request\n",
    "    response = requests.request(\"POST\", url, json=payload, headers=headers)\n",
    "    response.raise_for_status()  # Raise exception for bad status codes\n",
    "    resp_json = response.json()\n",
    "    answer_text = resp_json[\"outputs\"][0][\"outputs\"][0][\"results\"][\"message\"][\"data\"][\"text\"]\n",
    "    session_id = resp_json[\"session_id\"]\n",
    "    # Print response\n",
    "    print(answer_text)\n",
    "\n",
    "except requests.exceptions.RequestException as e:\n",
    "    print(f\"Error making API request: {e}\")\n",
    "except ValueError as e:\n",
    "    print(f\"Error parsing response: {e}\")"
   ]
  }
 ],
 "metadata": {
  "kernelspec": {
   "display_name": "base",
   "language": "python",
   "name": "python3"
  },
  "language_info": {
   "codemirror_mode": {
    "name": "ipython",
    "version": 3
   },
   "file_extension": ".py",
   "mimetype": "text/x-python",
   "name": "python",
   "nbconvert_exporter": "python",
   "pygments_lexer": "ipython3",
   "version": "3.12.7"
  }
 },
 "nbformat": 4,
 "nbformat_minor": 5
}
